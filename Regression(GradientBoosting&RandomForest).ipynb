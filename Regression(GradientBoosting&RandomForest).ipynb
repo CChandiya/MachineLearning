{
 "cells": [
  {
   "cell_type": "code",
   "execution_count": 9,
   "metadata": {},
   "outputs": [
    {
     "name": "stdout",
     "output_type": "stream",
     "text": [
      "   Energy_Demand  Energy_Supply  Renewable_Contribution  Grid_Load  \\\n",
      "0            302            225                0.717598         77   \n",
      "1            635            911                0.692436         95   \n",
      "2            470            636                0.991256         73   \n",
      "3            306            244                0.128394         64   \n",
      "4            271            124                0.104110         71   \n",
      "\n",
      "   Temperature  Voltage_Level  Efficiency_Score  \n",
      "0    37.271388     241.906652         12.296584  \n",
      "1    21.038421     230.944674          1.957359  \n",
      "2    23.856783     239.228966         17.311126  \n",
      "3    17.633637     233.985448          3.685671  \n",
      "4    20.559033     225.698084          1.381470  \n"
     ]
    }
   ],
   "source": [
    "import pandas as pd\n",
    "import numpy as np\n",
    "from sklearn.model_selection import train_test_split\n",
    "from sklearn.ensemble import GradientBoostingRegressor\n",
    "from sklearn.metrics import mean_squared_error, r2_score\n",
    "\n",
    "np.random.seed(42)\n",
    "\n",
    "num_rows = 1000\n",
    "\n",
    "data = {\n",
    "    'Energy_Demand': np.random.randint(200, 1000, size=num_rows),\n",
    "    'Energy_Supply': np.random.randint(100, 1200, size=num_rows),\n",
    "    'Renewable_Contribution': np.random.uniform(0, 1, size=num_rows),\n",
    "    'Grid_Load': np.random.randint(50, 100, size=num_rows),\n",
    "    'Temperature': np.random.uniform(15, 40, size=num_rows),\n",
    "    'Voltage_Level': np.random.uniform(220, 250, size=num_rows),\n",
    "}\n",
    "\n",
    "data['Efficiency_Score'] = (100 - (abs(data['Energy_Supply'] - data['Energy_Demand']) / data['Energy_Demand']) * 100)* data['Renewable_Contribution'] * (100 - data['Grid_Load']) / 100\n",
    "\n",
    "df = pd.DataFrame(data)\n",
    "\n",
    "print(df.head())\n"
   ]
  },
  {
   "cell_type": "code",
   "execution_count": 10,
   "metadata": {},
   "outputs": [
    {
     "name": "stdout",
     "output_type": "stream",
     "text": [
      "Mean Squared Error: 25.145893835160887\n",
      "R² Score: 0.7936787841298456\n"
     ]
    }
   ],
   "source": [
    "X = df.drop(columns=['Efficiency_Score'])\n",
    "y = df['Efficiency_Score']\n",
    "\n",
    "X_train, X_test, y_train, y_test = train_test_split(X, y, test_size=0.2, random_state=42)\n",
    "\n",
    "model = GradientBoostingRegressor(random_state=42)\n",
    "model.fit(X_train, y_train)\n",
    "\n",
    "y_pred = model.predict(X_test)\n",
    "\n",
    "mse = mean_squared_error(y_test, y_pred)\n",
    "r2 = r2_score(y_test, y_pred)\n",
    "\n",
    "print(f\"Mean Squared Error: {mse}\")\n",
    "print(f\"R² Score: {r2}\")\n"
   ]
  },
  {
   "cell_type": "code",
   "execution_count": 13,
   "metadata": {},
   "outputs": [
    {
     "name": "stdout",
     "output_type": "stream",
     "text": [
      "Mean Squared Error: 13.65478357541448\n",
      "R² Score: 0.8879629585573129\n"
     ]
    }
   ],
   "source": [
    "from sklearn.ensemble import RandomForestRegressor\n",
    "X = df.drop(columns=['Efficiency_Score'])\n",
    "y = df['Efficiency_Score']\n",
    "X_train, X_test, y_train, y_test = train_test_split(X, y, test_size=0.2, random_state=42)\n",
    "model = RandomForestRegressor(random_state=42)\n",
    "model.fit(X_train, y_train)\n",
    "y_pred = model.predict(X_test)\n",
    "mse = mean_squared_error(y_test, y_pred)\n",
    "r2 = r2_score(y_test, y_pred)\n",
    "print(f\"Mean Squared Error: {mse}\")\n",
    "print(f\"R² Score: {r2}\")\n"
   ]
  },
  {
   "cell_type": "code",
   "execution_count": null,
   "metadata": {},
   "outputs": [],
   "source": []
  }
 ],
 "metadata": {
  "kernelspec": {
   "display_name": "base",
   "language": "python",
   "name": "python3"
  },
  "language_info": {
   "codemirror_mode": {
    "name": "ipython",
    "version": 3
   },
   "file_extension": ".py",
   "mimetype": "text/x-python",
   "name": "python",
   "nbconvert_exporter": "python",
   "pygments_lexer": "ipython3",
   "version": "3.10.9"
  }
 },
 "nbformat": 4,
 "nbformat_minor": 2
}
